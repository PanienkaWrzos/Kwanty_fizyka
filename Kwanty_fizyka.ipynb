{
 "cells": [
  {
   "cell_type": "code",
   "execution_count": 1,
   "metadata": {
    "pycharm": {
     "name": "#%%\n"
    }
   },
   "outputs": [],
   "source": [
    "import sympy as sp\n",
    "sp.init_printing()"
   ]
  },
  {
   "cell_type": "code",
   "execution_count": 2,
   "metadata": {
    "pycharm": {
     "name": "#%%\n"
    }
   },
   "outputs": [
    {
     "data": {
      "text/plain": "(x, k, a, \\psi(x), n, h̅, p)",
      "image/png": "[encoded data removed]",
      "text/latex": "$\\displaystyle \\left( x, \\  k, \\  a, \\  \\psi{\\left(x \\right)}, \\  n, \\  \\hbar, \\  p\\right)$"
     },
     "execution_count": 2,
     "metadata": {},
     "output_type": "execute_result"
    }
   ],
   "source": [
    "x = sp.Symbol('x', real = True)\n",
    "k = sp.Symbol('k', real = True, positive = True)\n",
    "a = sp.Symbol('a', real = True)\n",
    "n = sp.Symbol('n', integer = True, nonzero = True)\n",
    "h = sp.Symbol('hbar', real = True, positive = True)\n",
    "psi = sp.Function('\\psi')\n",
    "p = sp.Symbol('p')\n",
    "\n",
    "x, k, a, psi(x), n, h, p"
   ]
  },
  {
   "cell_type": "code",
   "execution_count": 3,
   "metadata": {
    "pycharm": {
     "name": "#%%\n"
    }
   },
   "outputs": [
    {
     "data": {
      "text/plain": "                 ___           \n                ╱ 1     ⎛π⋅n⋅x⎞\n\\psi(x) = √2⋅  ╱  ─ ⋅sin⎜─────⎟\n             ╲╱   a     ⎝  a  ⎠",
      "image/png": "[encoded data removed]",
      "text/latex": "$\\displaystyle \\psi{\\left(x \\right)} = \\sqrt{2} \\sqrt{\\frac{1}{a}} \\sin{\\left(\\frac{\\pi n x}{a} \\right)}$"
     },
     "execution_count": 3,
     "metadata": {},
     "output_type": "execute_result"
    }
   ],
   "source": [
    "eq = sp.Eq(psi(x).diff(x, x), -k**2 * psi(x))\n",
    "sol = sp.dsolve(eq, psi(x), ics = {psi(0): 0})\n",
    "sol = sol.subs(k, n * sp.pi / a)\n",
    "sp.Symbol('C1')\n",
    "sol = sol.subs(sp.Symbol('C1'), sp.sqrt(2 / a))\n",
    "sol"
   ]
  },
  {
   "cell_type": "markdown",
   "source": [
    "Polecane dodatkowe źródło\n",
    "[Dodatek](bit.ly/KwanTeoria)"
   ],
   "metadata": {
    "collapsed": false,
    "pycharm": {
     "name": "#%% md\n"
    }
   }
  },
  {
   "cell_type": "markdown",
   "source": [
    "Obliczenia $<p>$\n"
   ],
   "metadata": {
    "collapsed": false,
    "pycharm": {
     "name": "#%% md\n"
    }
   }
  },
  {
   "cell_type": "code",
   "execution_count": 5,
   "outputs": [
    {
     "data": {
      "text/plain": "             d          \n-ⅈ⋅h̅⋅\\psi(x)⋅──(\\psi(x))\n             dx         ",
      "image/png": "[encoded data removed]",
      "text/latex": "$\\displaystyle - i \\hbar \\psi{\\left(x \\right)} \\frac{d}{d x} \\psi{\\left(x \\right)}$"
     },
     "execution_count": 5,
     "metadata": {},
     "output_type": "execute_result"
    }
   ],
   "source": [
    "p=h * sp.I*-1\n",
    "C = psi(x)* p * psi(x).diff(x)\n",
    "C"
   ],
   "metadata": {
    "collapsed": false,
    "pycharm": {
     "name": "#%%\n"
    }
   }
  },
  {
   "cell_type": "code",
   "execution_count": 6,
   "outputs": [
    {
     "data": {
      "text/plain": "            ___              ⎛       ___           ⎞\n           ╱ 1     ⎛π⋅n⋅x⎞ ∂ ⎜      ╱ 1     ⎛π⋅n⋅x⎞⎟\n-√2⋅ⅈ⋅h̅⋅  ╱  ─ ⋅sin⎜─────⎟⋅──⎜√2⋅  ╱  ─ ⋅sin⎜─────⎟⎟\n        ╲╱   a     ⎝  a  ⎠ ∂x⎝   ╲╱   a     ⎝  a  ⎠⎠",
      "image/png": "[encoded data removed]",
      "text/latex": "$\\displaystyle - \\sqrt{2} i \\hbar \\sqrt{\\frac{1}{a}} \\sin{\\left(\\frac{\\pi n x}{a} \\right)} \\frac{\\partial}{\\partial x} \\sqrt{2} \\sqrt{\\frac{1}{a}} \\sin{\\left(\\frac{\\pi n x}{a} \\right)}$"
     },
     "execution_count": 6,
     "metadata": {},
     "output_type": "execute_result"
    }
   ],
   "source": [
    "C = C.subs(psi(x), sol.rhs)\n",
    "C"
   ],
   "metadata": {
    "collapsed": false,
    "pycharm": {
     "name": "#%%\n"
    }
   }
  },
  {
   "cell_type": "code",
   "execution_count": 7,
   "outputs": [
    {
     "data": {
      "text/plain": "0",
      "image/png": "[encoded data removed]",
      "text/latex": "$\\displaystyle 0$"
     },
     "execution_count": 7,
     "metadata": {},
     "output_type": "execute_result"
    }
   ],
   "source": [
    "ep = sp.integrate(C,(x,0,a)).simplify()\n",
    "ep"
   ],
   "metadata": {
    "collapsed": false,
    "pycharm": {
     "name": "#%%\n"
    }
   }
  },
  {
   "cell_type": "markdown",
   "source": [
    "Obliczenia $<p^2>$"
   ],
   "metadata": {
    "collapsed": false,
    "pycharm": {
     "name": "#%% md\n"
    }
   }
  },
  {
   "cell_type": "code",
   "execution_count": 8,
   "outputs": [
    {
     "data": {
      "text/plain": "              2         \n  2          d          \n-h̅ ⋅\\psi(x)⋅───(\\psi(x))\n              2         \n            dx          ",
      "image/png": "[encoded data removed]",
      "text/latex": "$\\displaystyle - \\hbar^{2} \\psi{\\left(x \\right)} \\frac{d^{2}}{d x^{2}} \\psi{\\left(x \\right)}$"
     },
     "execution_count": 8,
     "metadata": {},
     "output_type": "execute_result"
    }
   ],
   "source": [
    "C = psi(x) * p**2 * psi(x).diff(x,x)\n",
    "C"
   ],
   "metadata": {
    "collapsed": false,
    "pycharm": {
     "name": "#%%\n"
    }
   }
  },
  {
   "cell_type": "code",
   "execution_count": 9,
   "outputs": [
    {
     "data": {
      "text/plain": "           ___              2⎛       ___           ⎞\n     2    ╱ 1     ⎛π⋅n⋅x⎞  ∂ ⎜      ╱ 1     ⎛π⋅n⋅x⎞⎟\n-√2⋅h̅ ⋅  ╱  ─ ⋅sin⎜─────⎟⋅───⎜√2⋅  ╱  ─ ⋅sin⎜─────⎟⎟\n       ╲╱   a     ⎝  a  ⎠   2⎝   ╲╱   a     ⎝  a  ⎠⎠\n                          ∂x                        ",
      "image/png": "[encoded data removed]",
      "text/latex": "$\\displaystyle - \\sqrt{2} \\hbar^{2} \\sqrt{\\frac{1}{a}} \\sin{\\left(\\frac{\\pi n x}{a} \\right)} \\frac{\\partial^{2}}{\\partial x^{2}} \\sqrt{2} \\sqrt{\\frac{1}{a}} \\sin{\\left(\\frac{\\pi n x}{a} \\right)}$"
     },
     "execution_count": 9,
     "metadata": {},
     "output_type": "execute_result"
    }
   ],
   "source": [
    "C = C.subs(psi(x), sol.rhs)\n",
    "C"
   ],
   "metadata": {
    "collapsed": false,
    "pycharm": {
     "name": "#%%\n"
    }
   }
  },
  {
   "cell_type": "code",
   "execution_count": 10,
   "outputs": [
    {
     "data": {
      "text/plain": " 2  2  2\nπ ⋅h̅ ⋅n \n────────\n    2   \n   a    ",
      "image/png": "[encoded data removed]",
      "text/latex": "$\\displaystyle \\frac{\\pi^{2} \\hbar^{2} n^{2}}{a^{2}}$"
     },
     "execution_count": 10,
     "metadata": {},
     "output_type": "execute_result"
    }
   ],
   "source": [
    "ep2 = sp.integrate(C,(x,0,a)).simplify()\n",
    "ep2"
   ],
   "metadata": {
    "collapsed": false,
    "pycharm": {
     "name": "#%%\n"
    }
   }
  },
  {
   "cell_type": "markdown",
   "source": [
    "Czy zasada nieoznaczoności faktycznie jest spełniona?"
   ],
   "metadata": {
    "collapsed": false,
    "pycharm": {
     "name": "#%% md\n"
    }
   }
  },
  {
   "cell_type": "code",
   "execution_count": 11,
   "outputs": [
    {
     "data": {
      "text/plain": "         ⎛ 2       2  ⎞\n 2  2  2 ⎜a       a   ⎟\nπ ⋅h̅ ⋅n ⋅⎜── - ───────⎟\n         ⎜12      2  2⎟\n         ⎝     2⋅π ⋅n ⎠\n───────────────────────\n            2          \n           a           ",
      "image/png": "[encoded data removed]",
      "text/latex": "$\\displaystyle \\frac{\\pi^{2} \\hbar^{2} n^{2} \\left(\\frac{a^{2}}{12} - \\frac{a^{2}}{2 \\pi^{2} n^{2}}\\right)}{a^{2}}$"
     },
     "execution_count": 11,
     "metadata": {},
     "output_type": "execute_result"
    }
   ],
   "source": [
    "ex = sp.integrate(sol.rhs*x*sol.rhs,(x,0,a)).simplify()\n",
    "ex2 = sp.integrate(sol.rhs*x**2*sol.rhs,(x,0,a)).simplify()\n",
    "a = (ex2-ex**2)*(ep2-ep**2)\n",
    "a"
   ],
   "metadata": {
    "collapsed": false,
    "pycharm": {
     "name": "#%%\n"
    }
   }
  },
  {
   "cell_type": "code",
   "execution_count": 12,
   "outputs": [
    {
     "data": {
      "text/plain": "     2 ⎛ 2  2    ⎞\nh̅   h̅ ⋅⎝π ⋅n  - 6⎠\n─ ≤ ──────────────\n2         12      ",
      "image/png": "[encoded data removed]",
      "text/latex": "$\\displaystyle \\frac{\\hbar}{2} \\leq \\frac{\\hbar^{2} \\left(\\pi^{2} n^{2} - 6\\right)}{12}$"
     },
     "execution_count": 12,
     "metadata": {},
     "output_type": "execute_result"
    }
   ],
   "source": [
    "(a>= h/2).simplify()"
   ],
   "metadata": {
    "collapsed": false,
    "pycharm": {
     "name": "#%%\n"
    }
   }
  },
  {
   "cell_type": "markdown",
   "source": [
    "Przy założeniu n >=1 jest to nierówność zawsze spełniona co oznacza, iż zasada nieoznaczoności także jest spełniona."
   ],
   "metadata": {
    "collapsed": false,
    "pycharm": {
     "name": "#%% md\n"
    }
   }
  }
 ],
 "metadata": {
  "kernelspec": {
   "display_name": ".venv",
   "language": "python",
   "name": "python3"
  },
  "language_info": {
   "codemirror_mode": {
    "name": "ipython",
    "version": 3
   },
   "file_extension": ".py",
   "mimetype": "text/x-python",
   "name": "python",
   "nbconvert_exporter": "python",
   "pygments_lexer": "ipython3",
   "version": "3.9.7"
  },
  "orig_nbformat": 4,
  "vscode": {
   "interpreter": {
    "hash": "c3421467828c4d79a88957a3b96d12a8738ca9170a7ad65e9621c480ea567510"
   }
  }
 },
 "nbformat": 4,
 "nbformat_minor": 2
}